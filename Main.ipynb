{
 "cells": [
  {
   "cell_type": "code",
   "execution_count": 19,
   "metadata": {},
   "outputs": [],
   "source": [
    "import tensorflow as tf\n",
    "from tensorflow.keras.preprocessing.image import ImageDataGenerator\n",
    "from tensorflow.keras.applications import EfficientNetB0\n",
    "from tensorflow.keras.layers import Dense, GlobalAveragePooling2D\n",
    "from tensorflow.keras.models import Model\n",
    "from tensorflow.keras import layers, Sequential\n",
    "from tensorflow.keras.applications import VGG16"
   ]
  },
  {
   "cell_type": "code",
   "execution_count": 9,
   "metadata": {},
   "outputs": [],
   "source": [
    "batch_Size = 32\n",
    "image_Size = 196\n",
    "epochs = 5\n",
    "channels = 3"
   ]
  },
  {
   "cell_type": "code",
   "execution_count": 10,
   "metadata": {},
   "outputs": [
    {
     "name": "stdout",
     "output_type": "stream",
     "text": [
      "Found 999 files belonging to 2 classes.\n",
      "Using 800 files for training.\n",
      "Found 999 files belonging to 2 classes.\n",
      "Using 199 files for validation.\n"
     ]
    }
   ],
   "source": [
    "data_dir = 'C:/Semester 4/Penglihatan citra dan computer vision/Fire_nonfire/dataset/fire_dataset'\n",
    "\n",
    "\n",
    "train_ds = tf.keras.utils.image_dataset_from_directory(\n",
    "  data_dir,\n",
    "  validation_split=0.2,\n",
    "  subset=\"training\",\n",
    "  seed=123,\n",
    "  image_size=(image_Size , image_Size ),\n",
    "  batch_size=batch_Size)\n",
    "\n",
    "val_ds = tf.keras.utils.image_dataset_from_directory(\n",
    "  data_dir,\n",
    "  validation_split=0.2,\n",
    "  subset=\"validation\",\n",
    "  seed=123,\n",
    "  image_size=(image_Size , image_Size ),\n",
    "  batch_size=batch_Size)\n",
    "\n",
    "\n"
   ]
  },
  {
   "cell_type": "code",
   "execution_count": 14,
   "metadata": {},
   "outputs": [],
   "source": [
    "scaling = tf.keras.Sequential([\n",
    "    layers.experimental.preprocessing.Resizing(196, 196),\n",
    "    layers.experimental.preprocessing.Rescaling(1./255.)\n",
    "])"
   ]
  },
  {
   "cell_type": "code",
   "execution_count": 11,
   "metadata": {},
   "outputs": [
    {
     "data": {
      "text/plain": [
       "['fire_images', 'non_fire_images']"
      ]
     },
     "execution_count": 11,
     "metadata": {},
     "output_type": "execute_result"
    }
   ],
   "source": [
    "labels = train_ds.class_names\n",
    "labels"
   ]
  },
  {
   "cell_type": "code",
   "execution_count": 15,
   "metadata": {},
   "outputs": [],
   "source": [
    "model = Sequential([\n",
    "    scaling,\n",
    "    layers.Conv2D(64, kernel_size = (3,3), activation='relu', input_shape=(batch_Size, image_Size, image_Size, channels)),\n",
    "    layers.MaxPooling2D((2, 2)),\n",
    "    layers.Conv2D(64, 3, activation='relu'),\n",
    "    layers.Conv2D(64, 3, activation='relu'),\n",
    "    layers.MaxPooling2D(2,2),\n",
    "    layers.Conv2D(128, 3, activation='relu'),\n",
    "    layers.MaxPooling2D(2,2),\n",
    "    layers.Dropout(0.1),\n",
    "    layers.Conv2D(128, 3, activation='relu'),\n",
    "    layers.Conv2D(64, 3, activation='relu'),\n",
    "    layers.MaxPooling2D(2,2),\n",
    "    layers.Dropout(0.1),\n",
    "    layers.Conv2D(64, 3, activation='relu'),\n",
    "    layers.MaxPooling2D(2,2),\n",
    "    layers.Flatten(),\n",
    "    layers.Dense(64, activation='relu'),\n",
    "    layers.Dense(1, activation='sigmoid'),\n",
    "])"
   ]
  },
  {
   "cell_type": "code",
   "execution_count": 17,
   "metadata": {},
   "outputs": [
    {
     "name": "stdout",
     "output_type": "stream",
     "text": [
      "Epoch 1/10\n",
      "25/25 [==============================] - 5s 153ms/step - loss: 0.2160 - accuracy: 0.9162 - val_loss: 0.1312 - val_accuracy: 0.9698\n",
      "Epoch 2/10\n",
      "25/25 [==============================] - 5s 146ms/step - loss: 0.1095 - accuracy: 0.9613 - val_loss: 0.2568 - val_accuracy: 0.9296\n",
      "Epoch 3/10\n",
      "25/25 [==============================] - 5s 148ms/step - loss: 0.1553 - accuracy: 0.9388 - val_loss: 0.1361 - val_accuracy: 0.9698\n",
      "Epoch 4/10\n",
      "25/25 [==============================] - 5s 143ms/step - loss: 0.0932 - accuracy: 0.9712 - val_loss: 0.1242 - val_accuracy: 0.9447\n",
      "Epoch 5/10\n",
      "25/25 [==============================] - 5s 146ms/step - loss: 0.1209 - accuracy: 0.9688 - val_loss: 0.1516 - val_accuracy: 0.9246\n",
      "Epoch 6/10\n",
      "25/25 [==============================] - 5s 144ms/step - loss: 0.1244 - accuracy: 0.9638 - val_loss: 0.1097 - val_accuracy: 0.9598\n",
      "Epoch 7/10\n",
      "25/25 [==============================] - 5s 157ms/step - loss: 0.0577 - accuracy: 0.9762 - val_loss: 0.1123 - val_accuracy: 0.9698\n",
      "Epoch 8/10\n",
      "25/25 [==============================] - 5s 148ms/step - loss: 0.0438 - accuracy: 0.9825 - val_loss: 0.1664 - val_accuracy: 0.9698\n",
      "Epoch 9/10\n",
      "25/25 [==============================] - 5s 153ms/step - loss: 0.0552 - accuracy: 0.9775 - val_loss: 0.1061 - val_accuracy: 0.9698\n",
      "Epoch 10/10\n",
      "25/25 [==============================] - 5s 149ms/step - loss: 0.0430 - accuracy: 0.9837 - val_loss: 0.1009 - val_accuracy: 0.9648\n"
     ]
    }
   ],
   "source": [
    "model.compile(    optimizer='adam',\n",
    "                  loss=tf.keras.losses.BinaryCrossentropy(),\n",
    "                  metrics=['accuracy']\n",
    "    )\n",
    "history = model.fit(train_ds,\n",
    "                       batch_size=batch_Size,\n",
    "                       validation_data=val_ds,\n",
    "                       verbose=1,\n",
    "                       epochs=10)"
   ]
  },
  {
   "cell_type": "code",
   "execution_count": 24,
   "metadata": {},
   "outputs": [],
   "source": [
    "base_model = VGG16(weights='imagenet', include_top=False, input_shape=(196, 196, 3))\n",
    "\n",
    "# Freeze the layers in the base model\n",
    "for layer in base_model.layers:\n",
    "    layer.trainable = False\n"
   ]
  },
  {
   "cell_type": "code",
   "execution_count": 25,
   "metadata": {},
   "outputs": [],
   "source": [
    "x = base_model.output\n",
    "x = GlobalAveragePooling2D()(x)\n",
    "x = Dense(128, activation='relu')(x)\n",
    "predictions = Dense(1, activation='sigmoid')(x)\n",
    "\n",
    "model = Model(inputs=base_model.input, outputs=predictions)\n"
   ]
  },
  {
   "cell_type": "code",
   "execution_count": 27,
   "metadata": {},
   "outputs": [
    {
     "name": "stdout",
     "output_type": "stream",
     "text": [
      "Epoch 1/10\n",
      "25/25 [==============================] - 6s 172ms/step - loss: 0.0214 - accuracy: 0.9925 - val_loss: 0.2963 - val_accuracy: 0.9397\n",
      "Epoch 2/10\n",
      "25/25 [==============================] - 5s 166ms/step - loss: 0.0110 - accuracy: 0.9975 - val_loss: 0.3208 - val_accuracy: 0.9296\n",
      "Epoch 3/10\n",
      "25/25 [==============================] - 5s 162ms/step - loss: 0.0036 - accuracy: 1.0000 - val_loss: 0.3167 - val_accuracy: 0.9296\n",
      "Epoch 4/10\n",
      "25/25 [==============================] - 5s 172ms/step - loss: 0.0024 - accuracy: 1.0000 - val_loss: 0.3502 - val_accuracy: 0.9347\n",
      "Epoch 5/10\n",
      "25/25 [==============================] - 5s 171ms/step - loss: 0.0015 - accuracy: 1.0000 - val_loss: 0.3651 - val_accuracy: 0.9347\n",
      "Epoch 6/10\n",
      "25/25 [==============================] - 5s 171ms/step - loss: 9.9291e-04 - accuracy: 1.0000 - val_loss: 0.3662 - val_accuracy: 0.9347\n",
      "Epoch 7/10\n",
      "25/25 [==============================] - 5s 171ms/step - loss: 8.1028e-04 - accuracy: 1.0000 - val_loss: 0.3658 - val_accuracy: 0.9347\n",
      "Epoch 8/10\n",
      "25/25 [==============================] - 5s 166ms/step - loss: 6.3186e-04 - accuracy: 1.0000 - val_loss: 0.3805 - val_accuracy: 0.9347\n",
      "Epoch 9/10\n",
      "25/25 [==============================] - 5s 173ms/step - loss: 5.3013e-04 - accuracy: 1.0000 - val_loss: 0.3805 - val_accuracy: 0.9397\n",
      "Epoch 10/10\n",
      "25/25 [==============================] - 7s 230ms/step - loss: 4.3922e-04 - accuracy: 1.0000 - val_loss: 0.3850 - val_accuracy: 0.9397\n"
     ]
    }
   ],
   "source": [
    "model.compile(optimizer='adam', loss='binary_crossentropy', metrics=['accuracy'])\n",
    "\n",
    "# Train the model\n",
    "epochs = 10\n",
    "history2=model.fit(\n",
    "    train_ds,\n",
    "    validation_data=val_ds,\n",
    "    epochs=epochs,\n",
    "    batch_size=batch_Size\n",
    ")"
   ]
  },
  {
   "cell_type": "code",
   "execution_count": 32,
   "metadata": {},
   "outputs": [],
   "source": [
    "base_model = VGG16(weights='imagenet', include_top=False, input_shape=(196, 196, 3))\n",
    "\n",
    "# Freeze the layers in the base model\n",
    "for layer in base_model.layers:\n",
    "    layer.trainable = False\n"
   ]
  },
  {
   "cell_type": "code",
   "execution_count": 33,
   "metadata": {},
   "outputs": [],
   "source": [
    "x = base_model.output\n",
    "x = GlobalAveragePooling2D()(x)\n",
    "x = Dense(128, activation='relu')(x)\n",
    "predictions = Dense(1, activation='sigmoid')(x)\n",
    "\n",
    "model = Model(inputs=base_model.input, outputs=predictions)\n"
   ]
  },
  {
   "cell_type": "code",
   "execution_count": 34,
   "metadata": {},
   "outputs": [
    {
     "name": "stdout",
     "output_type": "stream",
     "text": [
      "Epoch 1/10\n",
      "25/25 [==============================] - 6s 156ms/step - loss: 0.8208 - accuracy: 0.8213 - val_loss: 0.3629 - val_accuracy: 0.9246\n",
      "Epoch 2/10\n",
      "25/25 [==============================] - 5s 168ms/step - loss: 0.1955 - accuracy: 0.9438 - val_loss: 0.1599 - val_accuracy: 0.9497\n",
      "Epoch 3/10\n",
      "25/25 [==============================] - 5s 164ms/step - loss: 0.0803 - accuracy: 0.9663 - val_loss: 0.1350 - val_accuracy: 0.9548\n",
      "Epoch 4/10\n",
      "25/25 [==============================] - 5s 170ms/step - loss: 0.0510 - accuracy: 0.9800 - val_loss: 0.1187 - val_accuracy: 0.9447\n",
      "Epoch 5/10\n",
      "25/25 [==============================] - 5s 173ms/step - loss: 0.0348 - accuracy: 0.9937 - val_loss: 0.1205 - val_accuracy: 0.9447\n",
      "Epoch 6/10\n",
      "25/25 [==============================] - 8s 245ms/step - loss: 0.0271 - accuracy: 0.9937 - val_loss: 0.1278 - val_accuracy: 0.9447\n",
      "Epoch 7/10\n",
      "25/25 [==============================] - 6s 176ms/step - loss: 0.0201 - accuracy: 0.9950 - val_loss: 0.1252 - val_accuracy: 0.9447\n",
      "Epoch 8/10\n",
      "25/25 [==============================] - 5s 172ms/step - loss: 0.0154 - accuracy: 1.0000 - val_loss: 0.1321 - val_accuracy: 0.9497\n",
      "Epoch 9/10\n",
      "25/25 [==============================] - 5s 177ms/step - loss: 0.0118 - accuracy: 1.0000 - val_loss: 0.1349 - val_accuracy: 0.9497\n",
      "Epoch 10/10\n",
      "25/25 [==============================] - 6s 185ms/step - loss: 0.0098 - accuracy: 1.0000 - val_loss: 0.1424 - val_accuracy: 0.9497\n"
     ]
    }
   ],
   "source": [
    "model.compile(optimizer='adam', loss='binary_crossentropy', metrics=['accuracy'])\n",
    "\n",
    "# Train the model\n",
    "epochs = 10\n",
    "history3=model.fit(\n",
    "    train_ds,\n",
    "    validation_data=val_ds,\n",
    "    epochs=epochs,\n",
    "    batch_size=batch_Size\n",
    ")"
   ]
  },
  {
   "cell_type": "code",
   "execution_count": 35,
   "metadata": {},
   "outputs": [],
   "source": [
    "from tensorflow.keras.applications import InceptionV3\n"
   ]
  },
  {
   "cell_type": "code",
   "execution_count": 38,
   "metadata": {},
   "outputs": [],
   "source": [
    "base_model = InceptionV3(weights='imagenet', include_top=False, input_shape=(196, 196, 3))\n",
    "\n",
    "# Freeze the layers in the base model\n",
    "for layer in base_model.layers:\n",
    "    layer.trainable = False"
   ]
  },
  {
   "cell_type": "code",
   "execution_count": 39,
   "metadata": {},
   "outputs": [],
   "source": [
    "x = base_model.output\n",
    "x = GlobalAveragePooling2D()(x)\n",
    "x = Dense(128, activation='relu')(x)\n",
    "predictions = Dense(1, activation='sigmoid')(x)\n",
    "\n",
    "model = Model(inputs=base_model.input, outputs=predictions)\n"
   ]
  },
  {
   "cell_type": "code",
   "execution_count": 40,
   "metadata": {},
   "outputs": [
    {
     "name": "stdout",
     "output_type": "stream",
     "text": [
      "Epoch 1/10\n",
      "25/25 [==============================] - 9s 196ms/step - loss: 4.7586 - accuracy: 0.7538 - val_loss: 1.4485 - val_accuracy: 0.7940\n",
      "Epoch 2/10\n",
      "25/25 [==============================] - 5s 147ms/step - loss: 1.1356 - accuracy: 0.8100 - val_loss: 1.4519 - val_accuracy: 0.7990\n",
      "Epoch 3/10\n",
      "25/25 [==============================] - 5s 150ms/step - loss: 0.4797 - accuracy: 0.8712 - val_loss: 0.9916 - val_accuracy: 0.7789\n",
      "Epoch 4/10\n",
      "25/25 [==============================] - 5s 148ms/step - loss: 0.4794 - accuracy: 0.8413 - val_loss: 1.2437 - val_accuracy: 0.8141\n",
      "Epoch 5/10\n",
      "25/25 [==============================] - 5s 145ms/step - loss: 0.4467 - accuracy: 0.8737 - val_loss: 0.9762 - val_accuracy: 0.7688\n",
      "Epoch 6/10\n",
      "25/25 [==============================] - 5s 144ms/step - loss: 0.3814 - accuracy: 0.8775 - val_loss: 0.9649 - val_accuracy: 0.8090\n",
      "Epoch 7/10\n",
      "25/25 [==============================] - 5s 146ms/step - loss: 0.3028 - accuracy: 0.9137 - val_loss: 1.2295 - val_accuracy: 0.7286\n",
      "Epoch 8/10\n",
      "25/25 [==============================] - 5s 143ms/step - loss: 0.5370 - accuracy: 0.8562 - val_loss: 1.0225 - val_accuracy: 0.7588\n",
      "Epoch 9/10\n",
      "25/25 [==============================] - 5s 144ms/step - loss: 0.3509 - accuracy: 0.8850 - val_loss: 1.0734 - val_accuracy: 0.8191\n",
      "Epoch 10/10\n",
      "25/25 [==============================] - 5s 144ms/step - loss: 0.1799 - accuracy: 0.9362 - val_loss: 0.6971 - val_accuracy: 0.7839\n"
     ]
    }
   ],
   "source": [
    "model.compile(optimizer='adam', loss='binary_crossentropy', metrics=['accuracy'])\n",
    "\n",
    "# Train the model\n",
    "epochs = 10\n",
    "history4=model.fit(\n",
    "    train_ds,\n",
    "    validation_data=val_ds,\n",
    "    epochs=epochs,\n",
    "    batch_size=batch_Size\n",
    ")"
   ]
  },
  {
   "cell_type": "code",
   "execution_count": 41,
   "metadata": {},
   "outputs": [
    {
     "name": "stdout",
     "output_type": "stream",
     "text": [
      "Downloading data from https://storage.googleapis.com/tensorflow/keras-applications/resnet/resnet50_weights_tf_dim_ordering_tf_kernels_notop.h5\n",
      "94765736/94765736 [==============================] - 17s 0us/step\n"
     ]
    }
   ],
   "source": [
    "from tensorflow.keras.applications import ResNet50\n",
    "base_model = ResNet50(weights='imagenet', include_top=False, input_shape=(196, 196, 3))\n",
    "for layer in base_model.layers:\n",
    "    layer.trainable = False\n",
    "x = base_model.output\n",
    "x = GlobalAveragePooling2D()(x)\n",
    "x = Dense(128, activation='relu')(x)\n",
    "predictions = Dense(1, activation='sigmoid')(x)\n",
    "\n",
    "model = Model(inputs=base_model.input, outputs=predictions)\n"
   ]
  },
  {
   "cell_type": "code",
   "execution_count": 42,
   "metadata": {},
   "outputs": [
    {
     "name": "stdout",
     "output_type": "stream",
     "text": [
      "Epoch 1/10\n",
      "25/25 [==============================] - 7s 172ms/step - loss: 0.3107 - accuracy: 0.8763 - val_loss: 0.0909 - val_accuracy: 0.9749\n",
      "Epoch 2/10\n",
      "25/25 [==============================] - 5s 150ms/step - loss: 0.0616 - accuracy: 0.9775 - val_loss: 0.0776 - val_accuracy: 0.9799\n",
      "Epoch 3/10\n",
      "25/25 [==============================] - 5s 147ms/step - loss: 0.0428 - accuracy: 0.9862 - val_loss: 0.0851 - val_accuracy: 0.9698\n",
      "Epoch 4/10\n",
      "25/25 [==============================] - 5s 144ms/step - loss: 0.0350 - accuracy: 0.9887 - val_loss: 0.0771 - val_accuracy: 0.9749\n",
      "Epoch 5/10\n",
      "25/25 [==============================] - 5s 145ms/step - loss: 0.0260 - accuracy: 0.9950 - val_loss: 0.0802 - val_accuracy: 0.9749\n",
      "Epoch 6/10\n",
      "25/25 [==============================] - 5s 149ms/step - loss: 0.0181 - accuracy: 0.9962 - val_loss: 0.0916 - val_accuracy: 0.9698\n",
      "Epoch 7/10\n",
      "25/25 [==============================] - 5s 145ms/step - loss: 0.0137 - accuracy: 0.9987 - val_loss: 0.0945 - val_accuracy: 0.9648\n",
      "Epoch 8/10\n",
      "25/25 [==============================] - 5s 147ms/step - loss: 0.0111 - accuracy: 0.9987 - val_loss: 0.0929 - val_accuracy: 0.9749\n",
      "Epoch 9/10\n",
      "25/25 [==============================] - 5s 149ms/step - loss: 0.0083 - accuracy: 0.9987 - val_loss: 0.0917 - val_accuracy: 0.9749\n",
      "Epoch 10/10\n",
      "25/25 [==============================] - 5s 148ms/step - loss: 0.0078 - accuracy: 0.9987 - val_loss: 0.0939 - val_accuracy: 0.9749\n"
     ]
    }
   ],
   "source": [
    "model.compile(optimizer='adam', loss='binary_crossentropy', metrics=['accuracy'])\n",
    "\n",
    "# Train the model\n",
    "epochs = 10\n",
    "history5=model.fit(\n",
    "    train_ds,\n",
    "    validation_data=val_ds,\n",
    "    epochs=epochs,\n",
    "    batch_size=batch_Size\n",
    ")"
   ]
  },
  {
   "cell_type": "code",
   "execution_count": 43,
   "metadata": {},
   "outputs": [],
   "source": [
    "model.save('fire_nonfire_model_restnet.h5')"
   ]
  },
  {
   "cell_type": "code",
   "execution_count": null,
   "metadata": {},
   "outputs": [],
   "source": []
  }
 ],
 "metadata": {
  "kernelspec": {
   "display_name": "Python 3",
   "language": "python",
   "name": "python3"
  },
  "language_info": {
   "codemirror_mode": {
    "name": "ipython",
    "version": 3
   },
   "file_extension": ".py",
   "mimetype": "text/x-python",
   "name": "python",
   "nbconvert_exporter": "python",
   "pygments_lexer": "ipython3",
   "version": "3.9.16"
  },
  "orig_nbformat": 4
 },
 "nbformat": 4,
 "nbformat_minor": 2
}
